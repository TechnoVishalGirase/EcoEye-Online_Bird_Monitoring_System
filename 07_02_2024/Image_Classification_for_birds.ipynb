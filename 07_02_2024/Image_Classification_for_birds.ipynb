{
  "nbformat": 4,
  "nbformat_minor": 0,
  "metadata": {
    "colab": {
      "provenance": []
    },
    "kernelspec": {
      "name": "python3",
      "display_name": "Python 3"
    },
    "language_info": {
      "name": "python"
    }
  },
  "cells": [
    {
      "cell_type": "code",
      "source": [
        "!pip install bing-image-downloader"
      ],
      "metadata": {
        "id": "FzJSJS004LG7",
        "colab": {
          "base_uri": "https://localhost:8080/"
        },
        "outputId": "5c154492-8fa8-4d6b-f202-bd31ff084838"
      },
      "execution_count": 4,
      "outputs": [
        {
          "output_type": "stream",
          "name": "stdout",
          "text": [
            "Requirement already satisfied: bing-image-downloader in /usr/local/lib/python3.10/dist-packages (1.1.2)\n"
          ]
        }
      ]
    },
    {
      "cell_type": "code",
      "source": [
        "!mkdir images"
      ],
      "metadata": {
        "id": "eP1q7q887d9N"
      },
      "execution_count": 5,
      "outputs": []
    },
    {
      "cell_type": "code",
      "source": [
        "from bing_image_downloader import downloader\n",
        "downloader.download(\"African Grey Parrot\",limit=30,output_dir='images',adult_filter_off=True)"
      ],
      "metadata": {
        "colab": {
          "base_uri": "https://localhost:8080/"
        },
        "id": "8efiFmsv9hoD",
        "outputId": "d3153799-116d-4abe-a4f7-53ec45789d32"
      },
      "execution_count": 7,
      "outputs": [
        {
          "output_type": "stream",
          "name": "stdout",
          "text": [
            "[%] Downloading Images to /content/images/African Grey Parrot\n",
            "\n",
            "\n",
            "[!!]Indexing page: 1\n",
            "\n",
            "[%] Indexed 30 Images on Page 1.\n",
            "\n",
            "===============================================\n",
            "\n",
            "[%] Downloading Image #1 from https://cff2.earth.com/uploads/2016/10/03080527/bird-African-grey-parrot_1big_stock.jpg\n",
            "[%] File Downloaded !\n",
            "\n",
            "[%] Downloading Image #2 from https://www.marylandzoo.org/wp-content/uploads/2017/10/african_grey_web-1024x683.jpg\n",
            "[%] File Downloaded !\n",
            "\n",
            "[%] Downloading Image #3 from https://upload.wikimedia.org/wikipedia/commons/9/9c/African_Grey_Parrot_(Psittacus_erithacus)4.jpg\n",
            "[%] File Downloaded !\n",
            "\n",
            "[%] Downloading Image #4 from https://academy.allaboutbirds.org/wp-content/uploads/2016/11/African_Grey_Parrot.jpg\n",
            "[%] File Downloaded !\n",
            "\n",
            "[%] Downloading Image #5 from https://fthmb.tqn.com/t5pIn_-HQmGgBaNE-JTXYCI0h5w=/960x0/filters:no_upscale()/african-grey-parrot-121805814-resized-58a6f0f65f9b58a3c919b22b.jpg\n",
            "[%] File Downloaded !\n",
            "\n",
            "[%] Downloading Image #6 from https://cdn.britannica.com/39/166439-050-8D051A6E/parrot-perching.jpg\n",
            "[Error]Invalid image, not saving https://cdn.britannica.com/39/166439-050-8D051A6E/parrot-perching.jpg\n",
            "\n",
            "[!] Issue getting: https://cdn.britannica.com/39/166439-050-8D051A6E/parrot-perching.jpg\n",
            "[!] Error:: Invalid image, not saving https://cdn.britannica.com/39/166439-050-8D051A6E/parrot-perching.jpg\n",
            "\n",
            "[%] Downloading Image #6 from http://cdn.environews.tv/wp/wp-content/uploads/2016/02/African-Grey-Parrot-5-Photo-Wikimedia-Commons.jpg\n",
            "[!] Issue getting: http://cdn.environews.tv/wp/wp-content/uploads/2016/02/African-Grey-Parrot-5-Photo-Wikimedia-Commons.jpg\n",
            "[!] Error:: <urlopen error [Errno -2] Name or service not known>\n",
            "[%] Downloading Image #6 from http://2.bp.blogspot.com/-WUIS3QCj6hU/UC5i57o93PI/AAAAAAAAAzg/IgEy7a5ws5E/s1600/African_Grey_Parrot_Picture.jpg\n",
            "[%] File Downloaded !\n",
            "\n",
            "[%] Downloading Image #7 from http://pulpbits.net/wp-content/uploads/2014/01/African-Grey-Parrot1.jpg\n",
            "[%] File Downloaded !\n",
            "\n",
            "[%] Downloading Image #8 from http://upload.wikimedia.org/wikipedia/commons/3/32/African_Grey_Parrot_RWD2.jpg\n",
            "[%] File Downloaded !\n",
            "\n",
            "[%] Downloading Image #9 from https://www.thesprucepets.com/thmb/mz19tUz9Vo0EZTGON_SW6t1b23M=/5236x3331/filters:no_upscale():max_bytes(150000):strip_icc()/parrot-664908564-5ace880b3de42300376b2872.jpg\n",
            "[%] File Downloaded !\n",
            "\n",
            "[%] Downloading Image #10 from http://2.bp.blogspot.com/-ntZ9eN1t5hQ/USCmZX6H3BI/AAAAAAAAE3w/9ktnf9RaayM/s1600/African+Grey+Parrot+Facts+Images+01.jpg\n",
            "[%] File Downloaded !\n",
            "\n",
            "[%] Downloading Image #11 from https://cdn-images-1.medium.com/max/2000/1*sGCmXypPP5Ufjrj1tWd0EA.jpeg\n",
            "[%] File Downloaded !\n",
            "\n",
            "[%] Downloading Image #12 from http://upload.wikimedia.org/wikipedia/commons/2/28/Psittacus_erithacus_-perching_on_tray-8d.jpg\n",
            "[%] File Downloaded !\n",
            "\n",
            "[%] Downloading Image #13 from http://environews.tv/wp/wp-content/uploads/2016/02/African-Grey-Parrot-6-Photo-Wikimedia-Commons.jpg\n",
            "[%] File Downloaded !\n",
            "\n",
            "[%] Downloading Image #14 from https://www.bl.uk/britishlibrary/~/media/bl/global/language of birds/africangrey-thinkstockphotos-533333167.jpg?crop=1&amp;cropX=163&amp;cropY=286&amp;cropW=1898&amp;cropH=1068&amp;w=685&amp;h=386&amp;dispW=685&amp;dispH=386\n",
            "[!] Issue getting: https://www.bl.uk/britishlibrary/~/media/bl/global/language of birds/africangrey-thinkstockphotos-533333167.jpg?crop=1&amp;cropX=163&amp;cropY=286&amp;cropW=1898&amp;cropH=1068&amp;w=685&amp;h=386&amp;dispW=685&amp;dispH=386\n",
            "[!] Error:: URL can't contain control characters. '/britishlibrary/~/media/bl/global/language of birds/africangrey-thinkstockphotos-533333167.jpg?crop=1&amp;cropX=163&amp;cropY=286&amp;cropW=1898&amp;cropH=1068&amp;w=685&amp;h=386&amp;dispW=685&amp;dispH=386' (found at least ' ')\n",
            "[%] Downloading Image #14 from http://upload.wikimedia.org/wikipedia/commons/2/22/African_Grey_Parrot_(Psittacus_erithacus)_-held_on_hand.jpg\n",
            "[%] File Downloaded !\n",
            "\n",
            "[%] Downloading Image #15 from https://www.thesprucepets.com/thmb/c-2e3Z71xTJB2WOVHSpVpmyPeKg=/4339x3168/filters:no_upscale():max_bytes(150000):strip_icc()/african-grey-parrot--psittacus-erithacus--660732946-5ace88743128340036b1a747.jpg\n",
            "[%] File Downloaded !\n",
            "\n",
            "[%] Downloading Image #16 from https://d.ibtimes.co.uk/en/full/1625854/african-grey-parrot.jpg?w=300\n",
            "[%] File Downloaded !\n",
            "\n",
            "[%] Downloading Image #17 from http://upload.wikimedia.org/wikipedia/commons/1/1f/African_Grey_Parrot.jpg\n",
            "[%] File Downloaded !\n",
            "\n",
            "[%] Downloading Image #18 from https://blogs-images.forbes.com/grrlscientist/files/2016/10/African-grey-parrot-1024x682.jpg\n",
            "[%] File Downloaded !\n",
            "\n",
            "[%] Downloading Image #19 from http://wallpapersdsc.net/wp-content/uploads/2017/04/African-Grey-Parrot-Pictures.jpg\n",
            "[!] Issue getting: http://wallpapersdsc.net/wp-content/uploads/2017/04/African-Grey-Parrot-Pictures.jpg\n",
            "[!] Error:: <urlopen error [Errno -5] No address associated with hostname>\n",
            "[%] Downloading Image #19 from http://environews.tv/wp/wp-content/uploads/2016/02/African-Grey-Parrot-8-Photo-Wikimedia-Commons.jpg\n",
            "[%] File Downloaded !\n",
            "\n",
            "[%] Downloading Image #20 from https://picfiles.alphacoders.com/304/304536.jpg\n",
            "[%] File Downloaded !\n",
            "\n",
            "[%] Downloading Image #21 from http://upload.wikimedia.org/wikipedia/commons/0/03/Timneh_African_Grey_Parrot_-side_upper_body.jpg\n",
            "[%] File Downloaded !\n",
            "\n",
            "[%] Downloading Image #22 from https://cdn.fotofits.com/petzlover/gallery/img/l/african-grey-parrot-442396.jpg\n",
            "[%] File Downloaded !\n",
            "\n",
            "[%] Downloading Image #23 from https://media-be.chewy.com/wp-content/uploads/2015/11/21172508/African-Grey-Parrot1.jpg\n",
            "[%] File Downloaded !\n",
            "\n",
            "[%] Downloading Image #24 from https://www.warrenphotographic.co.uk/photography/bigs/05095-African-Grey-Parrot-in-rainforest.jpg\n",
            "[%] File Downloaded !\n",
            "\n",
            "[%] Downloading Image #25 from http://weneedfun.com/wp-content/uploads/2016/06/african-grey-parrot-picture-2.jpg\n",
            "[%] File Downloaded !\n",
            "\n",
            "[%] Downloading Image #26 from https://www.thevintagenews.com/wp-content/uploads/2016/11/2007-10-28_AfricanGrayParrot_Meru-459x640.jpg\n",
            "[%] File Downloaded !\n",
            "\n",
            "\n",
            "\n",
            "[!!]Indexing page: 2\n",
            "\n",
            "[%] Indexed 35 Images on Page 2.\n",
            "\n",
            "===============================================\n",
            "\n",
            "[%] Downloading Image #27 from https://www.marylandzoo.org/wp-content/uploads/2017/10/grey-parrot.jpg\n",
            "[%] File Downloaded !\n",
            "\n",
            "[%] Downloading Image #28 from https://cdn.britannica.com/41/166441-050-8957B29E/parrot-African.jpg\n",
            "[Error]Invalid image, not saving https://cdn.britannica.com/41/166441-050-8957B29E/parrot-African.jpg\n",
            "\n",
            "[!] Issue getting: https://cdn.britannica.com/41/166441-050-8957B29E/parrot-African.jpg\n",
            "[!] Error:: Invalid image, not saving https://cdn.britannica.com/41/166441-050-8957B29E/parrot-African.jpg\n",
            "\n",
            "[%] Downloading Image #28 from https://cdn.fotofits.com/responsive/1200x1200/petzlover/gallery/img/l/african-grey-parrot-913994.jpeg\n",
            "[%] File Downloaded !\n",
            "\n",
            "[%] Downloading Image #29 from https://i.pinimg.com/736x/9c/27/79/9c277997d70cb1bb26d134f8f6f1f4c9--african-grey-parrot-africans.jpg\n",
            "[%] File Downloaded !\n",
            "\n",
            "[%] Downloading Image #30 from http://www.eddielogic.com/Blogimages/Eddie1.jpg\n",
            "[%] File Downloaded !\n",
            "\n",
            "\n",
            "\n",
            "[%] Done. Downloaded 30 images.\n"
          ]
        }
      ]
    },
    {
      "cell_type": "code",
      "source": [
        "downloader.download(\"African Penguin\",limit=30,output_dir='images',adult_filter_off=True)"
      ],
      "metadata": {
        "colab": {
          "base_uri": "https://localhost:8080/"
        },
        "id": "iy_2-41PAmj8",
        "outputId": "1a858ec7-8903-4dc5-eba0-f162d3a1976b"
      },
      "execution_count": 8,
      "outputs": [
        {
          "output_type": "stream",
          "name": "stdout",
          "text": [
            "[%] Downloading Images to /content/images/African Penguin\n",
            "\n",
            "\n",
            "[!!]Indexing page: 1\n",
            "\n",
            "[%] Indexed 30 Images on Page 1.\n",
            "\n",
            "===============================================\n",
            "\n",
            "[%] Downloading Image #1 from https://www.carbonbrief.org/wp-content/uploads/2017/02/african-penguin.jpg\n",
            "[%] File Downloaded !\n",
            "\n",
            "[%] Downloading Image #2 from https://awesomeocean.com/wp-content/uploads/2017/05/african-penguins-1.jpg\n",
            "[%] File Downloaded !\n",
            "\n",
            "[%] Downloading Image #3 from http://2.bp.blogspot.com/-r0IrHgzR5zM/UFhgGZJfclI/AAAAAAAAQfk/cE6PJzsXZOk/s1600/African+Penguin.jpg\n",
            "[%] File Downloaded !\n",
            "\n",
            "[%] Downloading Image #4 from https://animals.sandiegozoo.org/sites/default/files/2016-10/animals_hero_penguin_02_1.jpg\n",
            "[%] File Downloaded !\n",
            "\n",
            "[%] Downloading Image #5 from http://4.bp.blogspot.com/-qsEerV4q3lc/UE7iRzE2xEI/AAAAAAAABrI/AC7rF31bF0c/s1600/African+Penguin.jpg\n",
            "[%] File Downloaded !\n",
            "\n",
            "[%] Downloading Image #6 from http://upload.wikimedia.org/wikipedia/commons/4/4b/African_Penguin_(Spheniscus_demersus)_at_London_Zoo.jpg\n",
            "[%] File Downloaded !\n",
            "\n",
            "[%] Downloading Image #7 from https://animals.sandiegozoo.org/sites/default/files/2016-10/penguin_03.jpg\n",
            "[%] File Downloaded !\n",
            "\n",
            "[%] Downloading Image #8 from http://2.bp.blogspot.com/-fcnoO6sx-Qo/UE7h_Zw1txI/AAAAAAAABqc/o3IJz75MX1s/s1600/African+Penguin2.jpg\n",
            "[%] File Downloaded !\n",
            "\n",
            "[%] Downloading Image #9 from https://3.bp.blogspot.com/-t5JmInM9jeM/URToxhIaWfI/AAAAAAAACSw/LuRMwAseae8/s1600/AfricanPenguin-4299w.jpg\n",
            "[%] File Downloaded !\n",
            "\n",
            "[%] Downloading Image #10 from http://4.bp.blogspot.com/-YFZhVhQwNgs/UE7iDCYBroI/AAAAAAAABqk/gjXKiNYtHrE/s1600/African+Penguin3.jpg\n",
            "[%] File Downloaded !\n",
            "\n",
            "[%] Downloading Image #11 from https://tulsazoo.org/wp-content/uploads/2016/03/AfricanPenguin2_NickW_Header-e1581978264547.jpg\n",
            "[%] File Downloaded !\n",
            "\n",
            "[%] Downloading Image #12 from http://3.bp.blogspot.com/-ws4CeUQYCd8/UE7iLkyXjEI/AAAAAAAABq4/eUEvOm8KGtA/s1600/African+Penguin5.jpg\n",
            "[%] File Downloaded !\n",
            "\n",
            "[%] Downloading Image #13 from https://www.biologicaldiversity.org/news/press_releases/2010/images/AfricanPenguin_Flickr_AndyCarter_large.jpg\n",
            "[%] File Downloaded !\n",
            "\n",
            "[%] Downloading Image #14 from https://9b16f79ca967fd0708d1-2713572fef44aa49ec323e813b06d2d9.ssl.cf2.rackcdn.com/1140x_a10-7_cTC/20160511HOAfricanPenguin-1568200502.jpg\n",
            "[%] File Downloaded !\n",
            "\n",
            "[%] Downloading Image #15 from http://zoohoo.dallaszoo.com/wp-content/uploads/2016/04/African_Penguins_DyerIsland.jpg\n",
            "[!] Issue getting: http://zoohoo.dallaszoo.com/wp-content/uploads/2016/04/African_Penguins_DyerIsland.jpg\n",
            "[!] Error:: <urlopen error [Errno 113] No route to host>\n",
            "[%] Downloading Image #15 from https://www.marylandzoo.org/wp-content/uploads/2017/08/penguin_web_2.jpg\n",
            "[%] File Downloaded !\n",
            "\n",
            "[%] Downloading Image #16 from http://3.bp.blogspot.com/-IZYoiUdvrqw/UiUZTGJz3-I/AAAAAAAADt4/q8vhkG7LsIs/s1600/African-Penguin.jpg\n",
            "[%] File Downloaded !\n",
            "\n",
            "[%] Downloading Image #17 from https://www.publicdomainpictures.net/pictures/180000/velka/african-penguins-1467820848tza.jpg\n",
            "[%] File Downloaded !\n",
            "\n",
            "[%] Downloading Image #18 from http://cincinnatizoo.org/wp-content/uploads/2015/12/African-Penguin-Awareness-Day-resized.jpg\n",
            "[%] File Downloaded !\n",
            "\n",
            "[%] Downloading Image #19 from https://www.publicdomainpictures.net/pictures/180000/velka/african-penguins-1467820799hqS.jpg\n",
            "[%] File Downloaded !\n",
            "\n",
            "[%] Downloading Image #20 from https://media1.s-nbcnews.com/i/newscms/2020_06/3217716/200205-african-penguins-se-224p_99406946be137a544e3c30c82618b9b3.jpg\n",
            "[%] File Downloaded !\n",
            "\n",
            "[%] Downloading Image #21 from http://www.nejohnston.org/Birds/2013/03/Images/IMG_2514.jpg\n",
            "[%] File Downloaded !\n",
            "\n",
            "[%] Downloading Image #22 from http://www.nejohnston.org/Birds/2013/11/Images/IMG_0248.jpg\n",
            "[%] File Downloaded !\n",
            "\n",
            "[%] Downloading Image #23 from https://hakaimagazine.com/wp-content/uploads/header-relocating-penguins.jpg\n",
            "[%] File Downloaded !\n",
            "\n",
            "[%] Downloading Image #24 from https://images.unsplash.com/photo-1548101739-b7178dfd5e67?ixlib=rb-1.2.1&amp;q=80&amp;fm=jpg&amp;crop=entropy&amp;cs=tinysrgb&amp;w=1080&amp;fit=max&amp;ixid=eyJhcHBfaWQiOjEyMDd9\n",
            "[%] File Downloaded !\n",
            "\n",
            "[%] Downloading Image #25 from https://www.westerncape.gov.za/sites/www.westerncape.gov.za/files/african_penguin_pair.jpg\n",
            "[%] File Downloaded !\n",
            "\n",
            "[%] Downloading Image #26 from http://zoohoo.dallaszoo.com/wp-content/uploads/2016/04/African_Penguins_Boulders.jpg\n",
            "[!] Issue getting: http://zoohoo.dallaszoo.com/wp-content/uploads/2016/04/African_Penguins_Boulders.jpg\n",
            "[!] Error:: <urlopen error [Errno 113] No route to host>\n",
            "[%] Downloading Image #26 from https://animals.sandiegozoo.org/sites/default/files/inline-images/penguin_braying.jpg\n",
            "[%] File Downloaded !\n",
            "\n",
            "[%] Downloading Image #27 from https://i.pinimg.com/736x/a9/53/25/a953255e9e3bb8b54088da926449312d--penguin-species-penguin-pictures.jpg\n",
            "[%] File Downloaded !\n",
            "\n",
            "[%] Downloading Image #28 from http://blog.nationalgeographic.org/wp-content/uploads/2015/01/Arican-PenquincKipEvansMission-Blue-copy.jpg\n",
            "[%] File Downloaded !\n",
            "\n",
            "\n",
            "\n",
            "[!!]Indexing page: 2\n",
            "\n",
            "[%] Indexed 35 Images on Page 2.\n",
            "\n",
            "===============================================\n",
            "\n",
            "[%] Downloading Image #29 from http://www.animalspot.net/wp-content/uploads/2017/07/African-Penguin.jpg\n",
            "[%] File Downloaded !\n",
            "\n",
            "[%] Downloading Image #30 from http://animals.sandiegozoo.org/sites/default/files/2016-10/animals_hero_penguin_02_1.jpg\n",
            "[%] File Downloaded !\n",
            "\n",
            "\n",
            "\n",
            "[%] Done. Downloaded 30 images.\n"
          ]
        }
      ]
    },
    {
      "cell_type": "code",
      "source": [
        "downloader.download(\"African Bittern\",limit=30,output_dir='images',adult_filter_off=True)"
      ],
      "metadata": {
        "colab": {
          "base_uri": "https://localhost:8080/"
        },
        "id": "V6AmR0jZBX87",
        "outputId": "976fd0a3-a709-4033-e299-281db7706c96"
      },
      "execution_count": 9,
      "outputs": [
        {
          "output_type": "stream",
          "name": "stdout",
          "text": [
            "[%] Downloading Images to /content/images/African Bittern\n",
            "\n",
            "\n",
            "[!!]Indexing page: 1\n",
            "\n",
            "[%] Indexed 30 Images on Page 1.\n",
            "\n",
            "===============================================\n",
            "\n",
            "[%] Downloading Image #1 from http://www.atozpictures.com/uploads/2017/08/black-bittern-desktop-wallpapers.jpg\n",
            "[%] File Downloaded !\n",
            "\n",
            "[%] Downloading Image #2 from https://cdn.britannica.com/07/137407-004-4336689F.jpg\n",
            "[Error]Invalid image, not saving https://cdn.britannica.com/07/137407-004-4336689F.jpg\n",
            "\n",
            "[!] Issue getting: https://cdn.britannica.com/07/137407-004-4336689F.jpg\n",
            "[!] Error:: Invalid image, not saving https://cdn.britannica.com/07/137407-004-4336689F.jpg\n",
            "\n",
            "[%] Downloading Image #2 from https://st2.depositphotos.com/1007009/5540/i/950/depositphotos_55400721-stock-photo-african-bittern.jpg\n",
            "[%] File Downloaded !\n",
            "\n",
            "[%] Downloading Image #3 from http://www.birdspix.com/wp-content/uploads/2011/04/American-Bittern-0989-cr.jpg\n",
            "[%] File Downloaded !\n",
            "\n",
            "[%] Downloading Image #4 from http://2.bp.blogspot.com/_vSMjeVMkBdo/TQQ7dZ4aMfI/AAAAAAAABOI/5HxBt8lsQv4/s1600/_DSC0028%255B134%255Dr%2B%2528American%2BBittern%2529.jpg\n",
            "[%] File Downloaded !\n",
            "\n",
            "[%] Downloading Image #5 from https://tailandfur.com/wp-content/uploads/2017/04/Pictures-of-Bittern-Birds00002.jpg\n",
            "[!] Issue getting: https://tailandfur.com/wp-content/uploads/2017/04/Pictures-of-Bittern-Birds00002.jpg\n",
            "[!] Error:: Remote end closed connection without response\n",
            "[%] Downloading Image #5 from http://tgreybirds.com/AmericanBittern05.jpg\n",
            "[%] File Downloaded !\n",
            "\n",
            "[%] Downloading Image #6 from https://www.wildlifeden.com/wp-content/uploads/little-bittern.jpg\n",
            "[%] File Downloaded !\n",
            "\n",
            "[%] Downloading Image #7 from https://www.africanbirdclub.org/afbid/public/imgdata/photos/1481/14811363560044.jpg\n",
            "[%] File Downloaded !\n",
            "\n",
            "[%] Downloading Image #8 from https://www.birdforum.net/wiki/images/f/f0/Australasian_Bittern.jpg\n",
            "[%] File Downloaded !\n",
            "\n",
            "[%] Downloading Image #9 from https://thumbs.dreamstime.com/b/little-bittern-ixobrychus-minutus-wild-life-animal-71062185.jpg\n",
            "[%] File Downloaded !\n",
            "\n",
            "[%] Downloading Image #10 from http://www.russellsastronomy.com/gallery/Nature/Birds/Victoria/WTP/australasian-bittern(1).jpg\n",
            "[%] File Downloaded !\n",
            "\n",
            "[%] Downloading Image #11 from http://nzbirdsonline.org.nz/sites/all/files/IMG_0265 bol.jpg\n",
            "[!] Issue getting: http://nzbirdsonline.org.nz/sites/all/files/IMG_0265 bol.jpg\n",
            "[!] Error:: URL can't contain control characters. '/sites/all/files/IMG_0265 bol.jpg' (found at least ' ')\n",
            "[%] Downloading Image #11 from https://i.pinimg.com/originals/97/ca/72/97ca72b57cf2aea455065a3fe01ab03e.jpg\n",
            "[%] File Downloaded !\n",
            "\n",
            "[%] Downloading Image #12 from https://birdssa.asn.au/wp-content/uploads/AusBittern-JGitsham-906x1024.png\n",
            "[%] File Downloaded !\n",
            "\n",
            "[%] Downloading Image #13 from https://s3.amazonaws.com/com-aab-media/og/75242201-1200px.jpg\n",
            "[%] File Downloaded !\n",
            "\n",
            "[%] Downloading Image #14 from https://s-media-cache-ak0.pinimg.com/736x/1f/c7/22/1fc7226afb5473ea54ae3eeecdf3b164.jpg\n",
            "[%] File Downloaded !\n",
            "\n",
            "[%] Downloading Image #15 from https://www.birdnote.org/sites/default/files/storage/640_fixed_width/american_bittern_craning_james_diedrick.jpg?itok=B3U7U4Rc\n",
            "[%] File Downloaded !\n",
            "\n",
            "[%] Downloading Image #16 from https://www.birdforum.net/wiki/images/thumb/3/3c/Great_Bittern.jpg/550px-Great_Bittern.jpg\n",
            "[%] File Downloaded !\n",
            "\n",
            "[%] Downloading Image #17 from http://tutukakalandcare.org.nz/wp-content/uploads/2017/11/1200285australasian-bittern-3.jpg\n",
            "[%] File Downloaded !\n",
            "\n",
            "[%] Downloading Image #18 from https://static3.bigstockphoto.com/2/2/1/large2/122150948.jpg\n",
            "[%] File Downloaded !\n",
            "\n",
            "[%] Downloading Image #19 from https://4.bp.blogspot.com/-5rUU-WsMCxk/T25_z6J0UDI/AAAAAAAACgQ/IrMLWdHVLWA/s1600/bittern+one.JPG\n",
            "[%] File Downloaded !\n",
            "\n",
            "[%] Downloading Image #20 from https://ecomarinegroup.com/wp-content/uploads/2020/12/photo_2020-12-18_15-16-23-768x575.jpg\n",
            "[%] File Downloaded !\n",
            "\n",
            "[%] Downloading Image #21 from https://www.swifft.net.au/cb_pages/images/Photo library/Fauna/Australasian Bittern R Hall 341 R Hall.jpg\n",
            "[!] Issue getting: https://www.swifft.net.au/cb_pages/images/Photo library/Fauna/Australasian Bittern R Hall 341 R Hall.jpg\n",
            "[!] Error:: URL can't contain control characters. '/cb_pages/images/Photo library/Fauna/Australasian Bittern R Hall 341 R Hall.jpg' (found at least ' ')\n",
            "[%] Downloading Image #21 from https://www.africanbirdclub.org/afbid/public/imgdata/photos/799/7991393082050.jpg\n",
            "[%] File Downloaded !\n",
            "\n",
            "[%] Downloading Image #22 from https://s-media-cache-ak0.pinimg.com/736x/85/0c/b0/850cb098e1bc4fc9fd0124d9885a4eb7.jpg\n",
            "[%] File Downloaded !\n",
            "\n",
            "[%] Downloading Image #23 from http://www.birdlifemelbourne.org.au/bird-listsV2/374 Bitterns/374 Aust Bittern/Aust Bittern No 2 (CK).jpg\n",
            "[!] Issue getting: http://www.birdlifemelbourne.org.au/bird-listsV2/374 Bitterns/374 Aust Bittern/Aust Bittern No 2 (CK).jpg\n",
            "[!] Error:: URL can't contain control characters. '/bird-listsV2/374 Bitterns/374 Aust Bittern/Aust Bittern No 2 (CK).jpg' (found at least ' ')\n",
            "[%] Downloading Image #23 from http://tailandfur.com/wp-content/uploads/2017/04/Pictures-of-Bittern-Birds00011.jpg\n",
            "[!] Issue getting: http://tailandfur.com/wp-content/uploads/2017/04/Pictures-of-Bittern-Birds00011.jpg\n",
            "[!] Error:: Remote end closed connection without response\n",
            "[%] Downloading Image #23 from https://mostlybirding.files.wordpress.com/2021/01/bittern-11.jpg?w=2076&amp;h=1152&amp;crop=1\n",
            "[%] File Downloaded !\n",
            "\n",
            "[%] Downloading Image #24 from https://www.birdguides-cdn.com/cdn/gallery/birds/Bittern8.jpg\n",
            "[%] File Downloaded !\n",
            "\n",
            "\n",
            "\n",
            "[!!]Indexing page: 2\n",
            "\n",
            "[%] Indexed 35 Images on Page 2.\n",
            "\n",
            "===============================================\n",
            "\n",
            "[%] Downloading Image #25 from https://cdn.britannica.com/s:700x500/07/137407-050-BF5C3C0F/bittern.jpg\n",
            "[Error]Invalid image, not saving https://cdn.britannica.com/s:700x500/07/137407-050-BF5C3C0F/bittern.jpg\n",
            "\n",
            "[!] Issue getting: https://cdn.britannica.com/s:700x500/07/137407-050-BF5C3C0F/bittern.jpg\n",
            "[!] Error:: Invalid image, not saving https://cdn.britannica.com/s:700x500/07/137407-050-BF5C3C0F/bittern.jpg\n",
            "\n",
            "[%] Downloading Image #25 from http://4.bp.blogspot.com/-A828BH6vO-Y/UlwTqUvJrUI/AAAAAAAABhI/4wycwY4kBtI/s1600/American+Bittern.jpg\n",
            "[%] File Downloaded !\n",
            "\n",
            "[%] Downloading Image #26 from http://www.nhptv.org/wild/images/americanbittern7.jpg\n",
            "[%] File Downloaded !\n",
            "\n",
            "[%] Downloading Image #27 from https://i.ytimg.com/vi/QpynLMJym4I/maxresdefault.jpg\n",
            "[%] File Downloaded !\n",
            "\n",
            "[%] Downloading Image #28 from http://www.animalspot.net/wp-content/uploads/2011/09/American-Bittern-Pictures.jpg\n",
            "[%] File Downloaded !\n",
            "\n",
            "[%] Downloading Image #29 from https://ecomarinegroup.com/wp-content/uploads/2020/12/photo_2020-12-18_15-16-33-1.jpg\n",
            "[%] File Downloaded !\n",
            "\n",
            "[%] Downloading Image #30 from http://tailandfur.com/wp-content/uploads/2017/04/Pictures-of-Bittern-Birds00002.jpg\n",
            "[!] Issue getting: http://tailandfur.com/wp-content/uploads/2017/04/Pictures-of-Bittern-Birds00002.jpg\n",
            "[!] Error:: Remote end closed connection without response\n",
            "[%] Downloading Image #30 from https://i.pinimg.com/originals/e8/ae/8c/e8ae8c74509f3e3512abd630b152a23c.jpg\n",
            "[%] File Downloaded !\n",
            "\n",
            "\n",
            "\n",
            "[%] Done. Downloaded 30 images.\n"
          ]
        }
      ]
    },
    {
      "cell_type": "code",
      "source": [
        "downloader.download(\"American Bittern\",limit=30,output_dir='images',adult_filter_off=True)"
      ],
      "metadata": {
        "colab": {
          "base_uri": "https://localhost:8080/"
        },
        "id": "aJhd-8JYBYk4",
        "outputId": "67b1154d-a903-4793-f756-c71b9db78b1e"
      },
      "execution_count": 10,
      "outputs": [
        {
          "output_type": "stream",
          "name": "stdout",
          "text": [
            "[%] Downloading Images to /content/images/American Bittern\n",
            "\n",
            "\n",
            "[!!]Indexing page: 1\n",
            "\n",
            "[%] Indexed 30 Images on Page 1.\n",
            "\n",
            "===============================================\n",
            "\n",
            "[%] Downloading Image #1 from https://www.borealbirds.org/sites/default/files/bird_images/american-bittern.jpg\n",
            "[%] File Downloaded !\n",
            "\n",
            "[%] Downloading Image #2 from https://s3.amazonaws.com/com-aab-media/og/75242201-1200px.jpg\n",
            "[%] File Downloaded !\n",
            "\n",
            "[%] Downloading Image #3 from http://www.wildsouthflorida.com/images2015/american bittern 1200.jpg\n",
            "[!] Issue getting: http://www.wildsouthflorida.com/images2015/american bittern 1200.jpg\n",
            "[!] Error:: URL can't contain control characters. '/images2015/american bittern 1200.jpg' (found at least ' ')\n",
            "[%] Downloading Image #3 from http://www.animalspot.net/wp-content/uploads/2011/09/American-Bittern-Images.jpg\n",
            "[%] File Downloaded !\n",
            "\n",
            "[%] Downloading Image #4 from http://www.animalspot.net/wp-content/uploads/2011/09/American-Bittern.jpg\n",
            "[%] File Downloaded !\n",
            "\n",
            "[%] Downloading Image #5 from https://nas-national-prod.s3.amazonaws.com/styles/hero_cover_bird_page/s3/web_h_apa_2016-a1_2295_2_american-bittern_diane_taylor_kk-adult.jpg?itok=Di-AX5af\n",
            "[%] File Downloaded !\n",
            "\n",
            "[%] Downloading Image #6 from https://www.birdnote.org/sites/default/files/storage/ambi_ts.jpg\n",
            "[%] File Downloaded !\n",
            "\n",
            "[%] Downloading Image #7 from http://s3.amazonaws.com/Photo_of_the_Day/system/uploads/photo/image/3042/sized_American_Bittern.jpg\n",
            "[%] File Downloaded !\n",
            "\n",
            "[%] Downloading Image #8 from http://2.bp.blogspot.com/-YAUAg-Kn19k/Ta0i47njIcI/AAAAAAAAB7I/AzUmB6DgMGc/s1600/_DSC0363%255B182%255Dr%2B%2528American%2BBittern%2529.jpg\n",
            "[%] File Downloaded !\n",
            "\n",
            "[%] Downloading Image #9 from https://www.birdguides-cdn.com/cdn/gallery/birds/DSC_6417.jpg\n",
            "[%] File Downloaded !\n",
            "\n",
            "[%] Downloading Image #10 from https://www.mu-43.com/media/american-bittern-005.46163/full?d=1534339649\n",
            "[%] File Downloaded !\n",
            "\n",
            "[%] Downloading Image #11 from https://vineyardgazette.com/sites/default/files/article-assets/main-photos/2020/lm_american_bittern.jpg\n",
            "[%] File Downloaded !\n",
            "\n",
            "[%] Downloading Image #12 from http://2.bp.blogspot.com/_vSMjeVMkBdo/TQQ6B3xUM0I/AAAAAAAABOA/K2eiRGG5Aik/s1600/_DSC0043%255B134%255Dr%2B%2528American%2BBittern%2529.jpg\n",
            "[%] File Downloaded !\n",
            "\n",
            "[%] Downloading Image #13 from http://4.bp.blogspot.com/-7Y7sxbEMCBg/Ta0kl1xJZrI/AAAAAAAAB7Q/CfWYHl_SDJU/s1600/_DSC0362%255B182%255Dr%2B%2528American%2BBittern%2529.jpg\n",
            "[%] File Downloaded !\n",
            "\n",
            "[%] Downloading Image #14 from http://www.animalspot.net/wp-content/uploads/2011/09/American-Bittern-Photos.jpg\n",
            "[%] File Downloaded !\n",
            "\n",
            "[%] Downloading Image #15 from https://1.bp.blogspot.com/-0VIoGNil4qs/Vwfw18cgblI/AAAAAAAAG_w/fb2QIAnPLZokQ7rRU7jHPBWjK6_KHlEeA/s1600/American%2BBittern_tonemapped.jpg\n",
            "[%] File Downloaded !\n",
            "\n",
            "[%] Downloading Image #16 from http://www.birdspix.com/wp-content/uploads/2011/04/American-Bittern-0989-cr.jpg\n",
            "[%] File Downloaded !\n",
            "\n",
            "[%] Downloading Image #17 from http://blogs.tallahassee.com/community/wp-content/uploads/2014/10/American-Bittern-1.jpg\n",
            "[%] File Downloaded !\n",
            "\n",
            "[%] Downloading Image #18 from https://www.birdspot.co.uk/wp-content/uploads/2021/01/american-bittern.jpg\n",
            "[%] File Downloaded !\n",
            "\n",
            "[%] Downloading Image #19 from https://i0.wp.com/flatheadaudubon.org/wp-content/uploads/2017/11/American_Bittern_m50-7-002_l_0.jpg?fit=820%2C1024&amp;ssl=1\n",
            "[%] File Downloaded !\n",
            "\n",
            "[%] Downloading Image #20 from http://sdakotabirds.com/species_photos/wading_largewater/american_bittern_1.jpg\n",
            "[%] File Downloaded !\n",
            "\n",
            "[%] Downloading Image #21 from http://3.bp.blogspot.com/-Cbqrqh1KHMg/Ta0oKC-LNtI/AAAAAAAAB7g/0R9iatdxlWo/s1600/_DSC0374%255B182%255Dr%2B%2528American%2BBittern%2529.jpg\n",
            "[%] File Downloaded !\n",
            "\n",
            "[%] Downloading Image #22 from https://2.bp.blogspot.com/-Bq4p6cGTrgE/WWn3pIBOBYI/AAAAAAAAGYU/9AgZ-jJA7-ITKzGVK9HbcBPR2-13eACigCPcBGAYYCw/s1600/American%2BBittern-0023.jpg\n",
            "[%] File Downloaded !\n",
            "\n",
            "[%] Downloading Image #23 from https://3.bp.blogspot.com/-rbtVNywq7DM/Tz-UKAXHebI/AAAAAAAAAIo/DeVcz58yCC8/s1600/IMG_1072.JPG\n",
            "[%] File Downloaded !\n",
            "\n",
            "[%] Downloading Image #24 from https://nas-national-prod.s3.amazonaws.com/styles/grid_gallery_lightbox/s3/web_a1_6791_4_american-bittern_lynn_cleveland-dont-label-as-to-age.jpg?itok=40CJ14RE\n",
            "[%] File Downloaded !\n",
            "\n",
            "[%] Downloading Image #25 from https://www.birdnote.org/sites/default/files/storage/american_bittern_craning_james_diedrick.jpg\n",
            "[%] File Downloaded !\n",
            "\n",
            "[%] Downloading Image #26 from http://www.wildsouthflorida.com/images2020/american-bittern-1200b-150.jpeg\n",
            "[%] File Downloaded !\n",
            "\n",
            "[%] Downloading Image #27 from https://journeynorth.org/sites/default/files/2020-04/IMG_5267 American Bittern 3_0.JPG\n",
            "[!] Issue getting: https://journeynorth.org/sites/default/files/2020-04/IMG_5267 American Bittern 3_0.JPG\n",
            "[!] Error:: URL can't contain control characters. '/sites/default/files/2020-04/IMG_5267 American Bittern 3_0.JPG' (found at least ' ')\n",
            "[%] Downloading Image #27 from https://www.larkwire.com/static/content/images/ipad/WBNA1/AmericanBittern.jpg\n",
            "[%] File Downloaded !\n",
            "\n",
            "[%] Downloading Image #28 from https://3.bp.blogspot.com/-WIx7zKdxeps/WJG9DSghAAI/AAAAAAAAl28/fwFhEWxibx0msxRZwQI_2vjXyW_QkllTgCLcB/s1600/IMG_5025.JPG\n",
            "[%] File Downloaded !\n",
            "\n",
            "\n",
            "\n",
            "[!!]Indexing page: 2\n",
            "\n",
            "[%] Indexed 35 Images on Page 2.\n",
            "\n",
            "===============================================\n",
            "\n",
            "[%] Downloading Image #29 from https://cdn.britannica.com/70/88170-050-5878FD13/American-bittern.jpg\n",
            "[Error]Invalid image, not saving https://cdn.britannica.com/70/88170-050-5878FD13/American-bittern.jpg\n",
            "\n",
            "[!] Issue getting: https://cdn.britannica.com/70/88170-050-5878FD13/American-bittern.jpg\n",
            "[!] Error:: Invalid image, not saving https://cdn.britannica.com/70/88170-050-5878FD13/American-bittern.jpg\n",
            "\n",
            "[%] Downloading Image #29 from http://www.carolinabirdclub.org/gallery/Sonis/images/American_Bittern_JV8A1402.jpg\n",
            "[%] File Downloaded !\n",
            "\n",
            "[%] Downloading Image #30 from http://2.bp.blogspot.com/_vSMjeVMkBdo/TQQ7dZ4aMfI/AAAAAAAABOI/5HxBt8lsQv4/s1600/_DSC0028%255B134%255Dr%2B%2528American%2BBittern%2529.jpg\n",
            "[%] File Downloaded !\n",
            "\n",
            "\n",
            "\n",
            "[%] Done. Downloaded 30 images.\n"
          ]
        }
      ]
    },
    {
      "cell_type": "code",
      "source": [
        "downloader.download(\"American Black Duck\",limit=30,output_dir='images',adult_filter_off=True)"
      ],
      "metadata": {
        "colab": {
          "base_uri": "https://localhost:8080/"
        },
        "id": "uv7gIXvZBYoA",
        "outputId": "61a3955e-e0d3-478a-f302-f0e738e0fde9"
      },
      "execution_count": 11,
      "outputs": [
        {
          "output_type": "stream",
          "name": "stdout",
          "text": [
            "[%] Downloading Images to /content/images/American Black Duck\n",
            "\n",
            "\n",
            "[!!]Indexing page: 1\n",
            "\n",
            "[%] Indexed 30 Images on Page 1.\n",
            "\n",
            "===============================================\n",
            "\n",
            "[%] Downloading Image #1 from https://nas-national-prod.s3.amazonaws.com/web_fyn-kynd_flickr-creative-common-by-2.0_americanblackduck_flickr-3-adult-male.jpg\n",
            "[%] File Downloaded !\n",
            "\n",
            "[%] Downloading Image #2 from http://3.bp.blogspot.com/-83P2Tnhbpyo/UmcK-1olDuI/AAAAAAAADkw/PXhRWR78R4I/s1600/799px-American_Black_Duck_male_RWD4.jpg\n",
            "[%] File Downloaded !\n",
            "\n",
            "[%] Downloading Image #3 from https://cdn.download.ams.birds.cornell.edu/api/v1/asset/301259931/1800\n",
            "[%] File Downloaded !\n",
            "\n",
            "[%] Downloading Image #4 from http://www.goats4h.com/birds/uploaded_images/DSC06954-747738.JPG\n",
            "[%] File Downloaded !\n",
            "\n",
            "[%] Downloading Image #5 from https://domesticanimalbreeds.com/wp-content/uploads/2018/11/American_Black_Duck-768x615.jpg\n",
            "[%] File Downloaded !\n",
            "\n",
            "[%] Downloading Image #6 from https://cdn.britannica.com/13/137313-050-B133B73E/ducks.jpg\n",
            "[Error]Invalid image, not saving https://cdn.britannica.com/13/137313-050-B133B73E/ducks.jpg\n",
            "\n",
            "[!] Issue getting: https://cdn.britannica.com/13/137313-050-B133B73E/ducks.jpg\n",
            "[!] Error:: Invalid image, not saving https://cdn.britannica.com/13/137313-050-B133B73E/ducks.jpg\n",
            "\n",
            "[%] Downloading Image #6 from http://www.nhptv.org/wild/images/americanblackduckwikidd.jpg\n",
            "[%] File Downloaded !\n",
            "\n",
            "[%] Downloading Image #7 from https://www.hww.ca/kaboom/images/Birds/American-Black-Duck/american-black-duck.jpg\n",
            "[%] File Downloaded !\n",
            "\n",
            "[%] Downloading Image #8 from https://www.birdguides-cdn.com/cdn/gallery/birdguides/dd3e6eae-46a2-4b66-8a81-01c85ba26b38.jpg\n",
            "[%] File Downloaded !\n",
            "\n",
            "[%] Downloading Image #9 from https://cdn.download.ams.birds.cornell.edu/api/v1/asset/60018891/1800\n",
            "[%] File Downloaded !\n",
            "\n",
            "[%] Downloading Image #10 from https://acjv.org/wp-content/uploads/2020/12/acjv-american-black-duck.jpg\n",
            "[%] File Downloaded !\n",
            "\n",
            "[%] Downloading Image #11 from https://idahobirds.net/wp-content/uploads/2016/03/American-Black-Duck.jpg\n",
            "[%] File Downloaded !\n",
            "\n",
            "[%] Downloading Image #12 from https://cdn.download.ams.birds.cornell.edu/api/v1/asset/60018911/1800\n",
            "[%] File Downloaded !\n",
            "\n",
            "[%] Downloading Image #13 from https://www.hww.ca/kaboom/images/Birds/American-Black-Duck/American-Black-Duck_Thinkstock_2.jpg\n",
            "[%] File Downloaded !\n",
            "\n",
            "[%] Downloading Image #14 from https://wildernessclassroom.org/wp-content/uploads/2013/12/American_Black_Duck-1.jpg\n",
            "[!] Issue getting: https://wildernessclassroom.org/wp-content/uploads/2013/12/American_Black_Duck-1.jpg\n",
            "[!] Error:: Remote end closed connection without response\n",
            "[%] Downloading Image #14 from https://cdn.download.ams.birds.cornell.edu/api/v1/asset/60018901/1800\n",
            "[%] File Downloaded !\n",
            "\n",
            "[%] Downloading Image #15 from https://www.markeisingbirding.com/sites/default/files/styles/xx_large__1280_960_/public/american_black_duck._central_park._new_york._2_march_2007_1.jpg?itok=0Za8-Ckg\n",
            "[%] File Downloaded !\n",
            "\n",
            "[%] Downloading Image #16 from https://nhpbs.org/wild/images/blduck.jpg\n",
            "[%] File Downloaded !\n",
            "\n",
            "[%] Downloading Image #17 from https://www.carolinabirdclub.org/gallery/Fowler/images/SouthPortNC01282012_American_Black_Duck.jpg\n",
            "[%] File Downloaded !\n",
            "\n",
            "[%] Downloading Image #18 from http://2.bp.blogspot.com/_XU65GzWQvos/TMoSRN-ViXI/AAAAAAAABgU/kk0Q-LCfxYk/s1600/ME_duck+American+Black+Duck+-+Anas+rubripes_101018.JPG\n",
            "[%] File Downloaded !\n",
            "\n",
            "[%] Downloading Image #19 from http://www.sharonfoc.org/wp-content/uploads/2019/05/black-ducks-1.jpg\n",
            "[%] File Downloaded !\n",
            "\n",
            "[%] Downloading Image #20 from https://nas-national-prod.s3.amazonaws.com/styles/article_teaser/s3/apa_2012_25420_197539_glennupton_american_black_duck_kk_0.jpg?itok=0FZ5QyFK\n",
            "[%] File Downloaded !\n",
            "\n",
            "[%] Downloading Image #21 from https://1.bp.blogspot.com/-NXkFo73nOdU/VGdDYA6NqBI/AAAAAAAAIyA/ob3IFaA3KEU/s1600/American%2Bblack%2Bduck%2BAnas%2Brubripes.jpg\n",
            "[%] File Downloaded !\n",
            "\n",
            "[%] Downloading Image #22 from http://www.hatiandskoll.com/wp-content/uploads/2015/07/AmericanBlackDuckFB.jpg\n",
            "[%] File Downloaded !\n",
            "\n",
            "[%] Downloading Image #23 from https://s3.amazonaws.com/com-aab-media/og/75241811-1200px.jpg\n",
            "[%] File Downloaded !\n",
            "\n",
            "[%] Downloading Image #24 from http://mifowlers.com/wp-content/uploads/2015/12/American_Black_Duck_male.jpg\n",
            "[%] File Downloaded !\n",
            "\n",
            "[%] Downloading Image #25 from http://stevenanz.com/Main_Directory/Recent Photos/2008/080504_NY_Adirondacks/original/american_black_duck_x_5fd55.jpg\n",
            "[!] Issue getting: http://stevenanz.com/Main_Directory/Recent Photos/2008/080504_NY_Adirondacks/original/american_black_duck_x_5fd55.jpg\n",
            "[!] Error:: URL can't contain control characters. '/Main_Directory/Recent Photos/2008/080504_NY_Adirondacks/original/american_black_duck_x_5fd55.jpg' (found at least ' ')\n",
            "[%] Downloading Image #25 from https://www.billhubick.com/images/american_black_duck01.jpg\n",
            "[%] File Downloaded !\n",
            "\n",
            "[%] Downloading Image #26 from https://i0.wp.com/www.sdakotabirds.com/blog/wp-content/uploads/2018/11/american_black_duck_112418.jpg\n",
            "[%] File Downloaded !\n",
            "\n",
            "[%] Downloading Image #27 from https://www.billhubick.com/images/american_black_duck04.jpg\n",
            "[%] File Downloaded !\n",
            "\n",
            "\n",
            "\n",
            "[!!]Indexing page: 2\n",
            "\n",
            "[%] Indexed 35 Images on Page 2.\n",
            "\n",
            "===============================================\n",
            "\n",
            "[%] Downloading Image #28 from https://www.gannett-cdn.com/presto/2020/02/13/PPOH/24ce4bcb-2830-4c47-87d5-d9a788456815-BLACK_DUCK.JPG?crop=559,315,x0,y0&amp;width=1600&amp;height=800&amp;fit=bounds\n",
            "[%] File Downloaded !\n",
            "\n",
            "[%] Downloading Image #29 from https://www.cohansey.org/wp-content/uploads/2018/06/American_Black_Duck_male.jpg\n",
            "[Error]Invalid image, not saving https://www.cohansey.org/wp-content/uploads/2018/06/American_Black_Duck_male.jpg\n",
            "\n",
            "[!] Issue getting: https://www.cohansey.org/wp-content/uploads/2018/06/American_Black_Duck_male.jpg\n",
            "[!] Error:: Invalid image, not saving https://www.cohansey.org/wp-content/uploads/2018/06/American_Black_Duck_male.jpg\n",
            "\n",
            "[%] Downloading Image #29 from https://1.bp.blogspot.com/-2k1LNzxT7eM/U0bsSvoMjBI/AAAAAAAACO8/Z1Ld3ecyzwQ/s1600/1416.jpg\n",
            "[%] File Downloaded !\n",
            "\n",
            "[%] Downloading Image #30 from http://3.bp.blogspot.com/_4-9qvIDEJvU/TLxFJXHKzqI/AAAAAAAABY0/YRGu6MtRY1U/s1600/black+duck3+copy.jpg\n",
            "[%] File Downloaded !\n",
            "\n",
            "\n",
            "\n",
            "[%] Done. Downloaded 30 images.\n"
          ]
        }
      ]
    },
    {
      "cell_type": "code",
      "source": [
        "downloader.download(\"American Coot\",limit=30,output_dir='images',adult_filter_off=True)"
      ],
      "metadata": {
        "colab": {
          "base_uri": "https://localhost:8080/"
        },
        "id": "wqNueU7NBYrU",
        "outputId": "61f2549e-a9d4-47d9-ccaf-f69f6f4cdcc9"
      },
      "execution_count": 12,
      "outputs": [
        {
          "output_type": "stream",
          "name": "stdout",
          "text": [
            "[%] Downloading Images to /content/images/American Coot\n",
            "\n",
            "\n",
            "[!!]Indexing page: 1\n",
            "\n",
            "[%] Indexed 30 Images on Page 1.\n",
            "\n",
            "===============================================\n",
            "\n",
            "[%] Downloading Image #1 from https://mnbirdatlas.org/graphics/photos/AMCO_LindaTanner_FlickrCC.jpg\n",
            "[%] File Downloaded !\n",
            "\n",
            "[%] Downloading Image #2 from http://1.bp.blogspot.com/-3R27zvLJZIc/UhWFwL8Nn-I/AAAAAAAACFQ/BSoPZlM_MeI/s1600/DSC04361.JPG\n",
            "[%] File Downloaded !\n",
            "\n",
            "[%] Downloading Image #3 from https://travisaudubon.org/home/wp-content/uploads/2018/02/American_Coot_KK_Mark_Eden-2_GBBC_2015.jpg\n",
            "[%] File Downloaded !\n",
            "\n",
            "[%] Downloading Image #4 from http://www.audubon.org/sites/default/files/styles/hero_cover_bird_page/public/American Coot_ mark eden_FL_2011_GBBC.jpg?itok=CiOpzc5F\n",
            "[!] Issue getting: http://www.audubon.org/sites/default/files/styles/hero_cover_bird_page/public/American Coot_ mark eden_FL_2011_GBBC.jpg?itok=CiOpzc5F\n",
            "[!] Error:: URL can't contain control characters. '/sites/default/files/styles/hero_cover_bird_page/public/American Coot_ mark eden_FL_2011_GBBC.jpg?itok=CiOpzc5F' (found at least ' ')\n",
            "[%] Downloading Image #4 from https://upload.wikimedia.org/wikipedia/commons/thumb/f/f5/American-coot-casey-klebba.jpg/1200px-American-coot-casey-klebba.jpg\n",
            "[Error]Invalid image, not saving https://upload.wikimedia.org/wikipedia/commons/thumb/f/f5/American-coot-casey-klebba.jpg/1200px-American-coot-casey-klebba.jpg\n",
            "\n",
            "[!] Issue getting: https://upload.wikimedia.org/wikipedia/commons/thumb/f/f5/American-coot-casey-klebba.jpg/1200px-American-coot-casey-klebba.jpg\n",
            "[!] Error:: Invalid image, not saving https://upload.wikimedia.org/wikipedia/commons/thumb/f/f5/American-coot-casey-klebba.jpg/1200px-American-coot-casey-klebba.jpg\n",
            "\n",
            "[%] Downloading Image #4 from http://sandiegobirdspot.com/wp-content/gallery/american-coot/E7A2916.jpg\n",
            "[%] File Downloaded !\n",
            "\n",
            "[%] Downloading Image #5 from http://www.audubon.org/sites/default/files/American_Coot_l07-46-002_l_0.jpg\n",
            "[!] Issue getting: http://www.audubon.org/sites/default/files/American_Coot_l07-46-002_l_0.jpg\n",
            "[!] Error:: HTTP Error 404: Not Found\n",
            "[%] Downloading Image #5 from http://sandiegobirdspot.com/wp-content/gallery/american-coot/QL0A4237_3.jpg\n",
            "[%] File Downloaded !\n",
            "\n",
            "[%] Downloading Image #6 from https://upload.wikimedia.org/wikipedia/commons/thumb/1/13/American_coot_-_June_2013.jpg/1200px-American_coot_-_June_2013.jpg\n",
            "[%] File Downloaded !\n",
            "\n",
            "[%] Downloading Image #7 from https://www.windowontheprairie.com/wp-content/uploads/2015/12/American-Coot.jpg\n",
            "[%] File Downloaded !\n",
            "\n",
            "[%] Downloading Image #8 from https://nature.mdc.mo.gov/sites/default/files/media/images/2015/02/american_coot_shallow_water_2-17-15.jpg\n",
            "[!] Issue getting: https://nature.mdc.mo.gov/sites/default/files/media/images/2015/02/american_coot_shallow_water_2-17-15.jpg\n",
            "[!] Error:: HTTP Error 404: Not Found\n",
            "[%] Downloading Image #8 from https://nas-national-prod.s3.amazonaws.com/styles/grid_gallery_lightbox/s3/_apa_2016-a1_1014_6_american_coot_bill_bahmer_kk-adult.jpg?itok=nVamGqgv\n",
            "[%] File Downloaded !\n",
            "\n",
            "[%] Downloading Image #9 from https://3.bp.blogspot.com/-cy1_4p0TxpA/UIS122HqFLI/AAAAAAAACBA/m28V8-TbfZs/s1600/American-Coot-0028.jpg\n",
            "[%] File Downloaded !\n",
            "\n",
            "[%] Downloading Image #10 from https://www.featheredphotography.com/blog/wp-content/uploads/2021/01/american-coot-2667-ron-dudley.jpg\n",
            "[%] File Downloaded !\n",
            "\n",
            "[%] Downloading Image #11 from http://www.wildsouthflorida.com/images2020/american.coot.2.jpeg\n",
            "[%] File Downloaded !\n",
            "\n",
            "[%] Downloading Image #12 from http://animalia.bio/uploads/animals/photos/full/1.25x1/american-coot-25.jpg\n",
            "[!] Issue getting: http://animalia.bio/uploads/animals/photos/full/1.25x1/american-coot-25.jpg\n",
            "[!] Error:: HTTP Error 403: Forbidden\n",
            "[%] Downloading Image #12 from https://sandiegobirdspot.com/wp-content/gallery/american-coot/QL0A4203_1.jpg\n",
            "[%] File Downloaded !\n",
            "\n",
            "[%] Downloading Image #13 from https://1.bp.blogspot.com/-P2z0HPuZ0Vo/WVMYc493hII/AAAAAAAAm2U/GUH1WPRhmh0pTZ3XNFollqqlKL56c07qQCEwYBhgL/s1600/1f1%2Bcoot.jpg\n",
            "[%] File Downloaded !\n",
            "\n",
            "[%] Downloading Image #14 from http://4.bp.blogspot.com/-pyScY3mnW-Q/ULx913ImMoI/AAAAAAAAB1U/bMaCJ67LbNo/s1600/American-Coot-Bird-image-0.jpg\n",
            "[%] File Downloaded !\n",
            "\n",
            "[%] Downloading Image #15 from http://naturemappingfoundation.org/natmap/photos/birds/american_coot_4333np.jpg\n",
            "[%] File Downloaded !\n",
            "\n",
            "[%] Downloading Image #16 from https://sandiegobirdspot.com/wp-content/gallery/american-coot/QL0A4207.jpg\n",
            "[%] File Downloaded !\n",
            "\n",
            "[%] Downloading Image #17 from https://www.mtlemmonazimages.com/uploads/3/7/7/7/37772539/swwetlnds-169-of-343_orig.jpg\n",
            "[%] File Downloaded !\n",
            "\n",
            "[%] Downloading Image #18 from https://idahobirds.net/wp-content/uploads/2016/03/American-Coot.jpg\n",
            "[%] File Downloaded !\n",
            "\n",
            "[%] Downloading Image #19 from https://thenaturecollective.org/wp-content/uploads/2019/04/coot.jpeg\n",
            "[%] File Downloaded !\n",
            "\n",
            "[%] Downloading Image #20 from https://res-3.cloudinary.com/ebirdr/image/upload/s--sQDF_jZ8--/f_auto,q_auto,t_full/american_coot-2.jpg\n",
            "[%] File Downloaded !\n",
            "\n",
            "[%] Downloading Image #21 from http://upload.wikimedia.org/wikipedia/commons/d/dc/American_Coot_-_juvenile.jpg\n",
            "[%] File Downloaded !\n",
            "\n",
            "[%] Downloading Image #22 from http://www.mtlemmonazimages.com/uploads/3/7/7/7/37772539/reidpark-1043-of-960_orig.jpg\n",
            "[%] File Downloaded !\n",
            "\n",
            "[%] Downloading Image #23 from https://www.birdnote.org/sites/default/files/storage/amco_ad_gth1.jpg\n",
            "[%] File Downloaded !\n",
            "\n",
            "[%] Downloading Image #24 from http://sandiegobirdspot.com/wp-content/gallery/american-coot/T3A3097.jpg\n",
            "[%] File Downloaded !\n",
            "\n",
            "[%] Downloading Image #25 from http://sandiegobirdspot.com/wp-content/gallery/american-coot/4F7A7417_4.jpg\n",
            "[%] File Downloaded !\n",
            "\n",
            "\n",
            "\n",
            "[!!]Indexing page: 2\n",
            "\n",
            "[%] Indexed 35 Images on Page 2.\n",
            "\n",
            "===============================================\n",
            "\n",
            "[%] Downloading Image #26 from https://images.squarespace-cdn.com/content/v1/578ff19b9f7456c15b63f7e7/1572641756563-DKCXHDVHBEL9KJSZD9GV/ke17ZwdGBToddI8pDm48kFr-MCz83LG2ZqzGFu9uALUUqsxRUqqbr1mOJYKfIPR7LoDQ9mXPOjoJoqy81S2I8N_N4V1vUb5AoIIIbLZhVYxCRW4BPu10St3TBAUQYVKcf42APUzg73I6BbvkUSZBpJhcOgRzHbaVuNgQSOKA8C5AwPhW16geOHSxinwWbjVI/aab+american+coot.jpg\n",
            "[%] File Downloaded !\n",
            "\n",
            "[%] Downloading Image #27 from https://www.featheredphotography.com/blog/wp-content/uploads/2018/01/american-coot-2307-ron-dudley.jpg\n",
            "[%] File Downloaded !\n",
            "\n",
            "[%] Downloading Image #28 from https://nas-national-prod.s3.amazonaws.com/styles/grid_gallery_lightbox/s3/_a1_7132_3_fulica_americana_-_american_coot_ramesh_kodavatiganti-adult.jpg?itok=q4DPiPAn\n",
            "[%] File Downloaded !\n",
            "\n",
            "[%] Downloading Image #29 from http://2.bp.blogspot.com/-G8nyLxB2jLw/UfcZntguhNI/AAAAAAAAFKg/HoOsOqDvjTs/s1600/American-Coot.jpg\n",
            "[%] File Downloaded !\n",
            "\n",
            "[%] Downloading Image #30 from https://www.publicdomainpictures.net/pictures/270000/velka/american-coot.jpg\n",
            "[%] File Downloaded !\n",
            "\n",
            "\n",
            "\n",
            "[%] Done. Downloaded 30 images.\n"
          ]
        }
      ]
    },
    {
      "cell_type": "code",
      "source": [],
      "metadata": {
        "id": "flP9eIhvBYus"
      },
      "execution_count": null,
      "outputs": []
    },
    {
      "cell_type": "code",
      "source": [
        "# Preprocessing\n",
        "# 1. Resize\n",
        "# 2. Flatten\n",
        "\n",
        "# For folder ( from one to another)\n",
        "import os\n",
        "# displaying image\n",
        "import matplotlib.pyplot as plt\n",
        "# numerical computing\n",
        "import numpy as np\n",
        "# reading images\n",
        "from skimage.io import imread\n",
        "# all images to be in same size therefore\n",
        "from skimage.transform import resize\n",
        "\n",
        "target = []\n",
        "images =[]\n",
        "flat_data =[]\n",
        "\n",
        "DATADIR = '/content/images'\n",
        "CATEGORIES = ['African Bittern','African Grey Parrot','African Penguin','American Bittern','American Black Duck','American Coot']\n",
        "\n",
        "for category in CATEGORIES:\n",
        "  class_num = CATEGORIES.index(category) # label encoding the values\n",
        "  path = os.path.join(DATADIR,category) # Create path to use all the images\n",
        "  for img in os.listdir(path):\n",
        "    img_array = imread(os.path.join(path,img))\n",
        "    # print(img_array.shape)\n",
        "    # plt.imshow(img_array)\n",
        "    img_resized = resize(img_array,(150,150,3))\n",
        "    flat_data.append(img_resized.flatten())\n",
        "    images.append(img_resized)\n",
        "    target.append(class_num)\n",
        "\n",
        "flat_data = np.array(flat_data)\n",
        "target = np.array(target)\n",
        "images = np.array(images)\n"
      ],
      "metadata": {
        "id": "yTEeSiMfCkcD"
      },
      "execution_count": 148,
      "outputs": []
    },
    {
      "cell_type": "code",
      "source": [
        "flat_data[0]"
      ],
      "metadata": {
        "colab": {
          "base_uri": "https://localhost:8080/"
        },
        "id": "yzyf643y1HlE",
        "outputId": "d28558ee-e32a-472c-c8dc-61e0630ab6ea"
      },
      "execution_count": 150,
      "outputs": [
        {
          "output_type": "execute_result",
          "data": {
            "text/plain": [
              "array([0.41541025, 0.45462593, 0.31737103, ..., 0.27384328, 0.36003393,\n",
              "       0.20756237])"
            ]
          },
          "metadata": {},
          "execution_count": 150
        }
      ]
    },
    {
      "cell_type": "code",
      "source": [
        "len(flat_data[0]) # 150 x 150 x 3"
      ],
      "metadata": {
        "colab": {
          "base_uri": "https://localhost:8080/"
        },
        "id": "2DwJEhOaCkiG",
        "outputId": "bcb0be02-ca73-4fb8-ba2b-595300dc044c"
      },
      "execution_count": 151,
      "outputs": [
        {
          "output_type": "execute_result",
          "data": {
            "text/plain": [
              "67500"
            ]
          },
          "metadata": {},
          "execution_count": 151
        }
      ]
    },
    {
      "cell_type": "code",
      "source": [
        "target"
      ],
      "metadata": {
        "colab": {
          "base_uri": "https://localhost:8080/"
        },
        "id": "-jIaUByMCklJ",
        "outputId": "10086779-e5b2-498d-da52-20b7421375bb"
      },
      "execution_count": 152,
      "outputs": [
        {
          "output_type": "execute_result",
          "data": {
            "text/plain": [
              "array([0, 0, 0, 0, 0, 0, 0, 0, 0, 0, 0, 0, 0, 0, 0, 0, 0, 0, 0, 0, 0, 0,\n",
              "       0, 0, 0, 0, 0, 0, 0, 0, 1, 1, 1, 1, 1, 1, 1, 1, 1, 1, 1, 1, 1, 1,\n",
              "       1, 1, 1, 1, 1, 1, 1, 1, 1, 1, 1, 1, 1, 1, 1, 1, 1, 2, 2, 2, 2, 2,\n",
              "       2, 2, 2, 2, 2, 2, 2, 2, 2, 2, 2, 2, 2, 2, 2, 2, 2, 2, 2, 2, 2, 2,\n",
              "       2, 2, 2, 3, 3, 3, 3, 3, 3, 3, 3, 3, 3, 3, 3, 3, 3, 3, 3, 3, 3, 3,\n",
              "       3, 3, 3, 3, 3, 3, 3, 3, 3, 3, 3, 4, 4, 4, 4, 4, 4, 4, 4, 4, 4, 4,\n",
              "       4, 4, 4, 4, 4, 4, 4, 4, 4, 4, 4, 4, 4, 4, 4, 4, 4, 4, 4, 5, 5, 5,\n",
              "       5, 5, 5, 5, 5, 5, 5, 5, 5, 5, 5, 5, 5, 5, 5, 5, 5, 5, 5, 5, 5, 5,\n",
              "       5, 5, 5, 5, 5])"
            ]
          },
          "metadata": {},
          "execution_count": 152
        }
      ]
    },
    {
      "cell_type": "code",
      "source": [
        "unique,count = np.unique(target,return_counts=True)\n",
        "colors = ['blue', 'green', 'red', 'orange', 'purple', 'yellow']\n",
        "plt.figure(figsize=(10, 6))  # Adjust figure size as needed\n",
        "bars = plt.bar(CATEGORIES, count, color=colors)\n",
        "\n",
        "# Rotate x-axis labels\n",
        "plt.xticks(rotation=45)\n",
        "\n",
        "# Add labels and title\n",
        "plt.xlabel('Categories')\n",
        "plt.ylabel('Count')\n",
        "plt.title('Count of Each Category')\n",
        "\n",
        "# Add counts above bars\n",
        "for bar, count in zip(bars, count):\n",
        "    plt.text(bar.get_x() + bar.get_width() / 2, bar.get_height() + 0.5, str(count), ha='center', va='bottom')\n",
        "\n",
        "# Show plot\n",
        "plt.tight_layout()\n",
        "plt.show()"
      ],
      "metadata": {
        "colab": {
          "base_uri": "https://localhost:8080/",
          "height": 607
        },
        "id": "QANI_VFqCkoA",
        "outputId": "3b3d505c-b958-4d1a-a994-8c60cd5b6f97"
      },
      "execution_count": 153,
      "outputs": [
        {
          "output_type": "display_data",
          "data": {
            "text/plain": [
              "<Figure size 1000x600 with 1 Axes>"
            ],
            "image/png": "[encoded data removed]"
          },
          "metadata": {}
        }
      ]
    },
    {
      "cell_type": "code",
      "source": [
        "# Split data into Training and Testing\n",
        "from sklearn.model_selection import train_test_split\n",
        "x_train,x_test,y_train,y_test = train_test_split(flat_data,target,test_size=0.2,random_state=109)"
      ],
      "metadata": {
        "id": "KrI8_g6cCkq4"
      },
      "execution_count": 154,
      "outputs": []
    },
    {
      "cell_type": "code",
      "source": [
        "from sklearn.model_selection import GridSearchCV\n",
        "from sklearn import svm\n",
        "param_grid = [\n",
        "\n",
        "              {'C':[1,10,100,1000],'kernel':['poly']},\n",
        "              {'C':[1,10,100,1000],'gamma':[0.001,0.0001],'kernel':['rbf']},\n",
        "\n",
        "]\n",
        "\n",
        "svc = svm.SVC(probability=True)\n",
        "clf= GridSearchCV(svc,param_grid)\n",
        "clf.fit(x_train,y_train)"
      ],
      "metadata": {
        "colab": {
          "base_uri": "https://localhost:8080/",
          "height": 215
        },
        "id": "YjPzfwBfCkuT",
        "outputId": "7594cfb2-b14e-4517-add4-d2efc02d866c"
      },
      "execution_count": 157,
      "outputs": [
        {
          "output_type": "execute_result",
          "data": {
            "text/plain": [
              "GridSearchCV(estimator=SVC(probability=True),\n",
              "             param_grid=[{'C': [1, 10, 100, 1000], 'kernel': ['poly']},\n",
              "                         {'C': [1, 10, 100, 1000], 'gamma': [0.001, 0.0001],\n",
              "                          'kernel': ['rbf']}])"
            ],
            "text/html": [
              "<style>#sk-container-id-3 {color: black;background-color: white;}#sk-container-id-3 pre{padding: 0;}#sk-container-id-3 div.sk-toggleable {background-color: white;}#sk-container-id-3 label.sk-toggleable__label {cursor: pointer;display: block;width: 100%;margin-bottom: 0;padding: 0.3em;box-sizing: border-box;text-align: center;}#sk-container-id-3 label.sk-toggleable__label-arrow:before {content: \"▸\";float: left;margin-right: 0.25em;color: #696969;}#sk-container-id-3 label.sk-toggleable__label-arrow:hover:before {color: black;}#sk-container-id-3 div.sk-estimator:hover label.sk-toggleable__label-arrow:before {color: black;}#sk-container-id-3 div.sk-toggleable__content {max-height: 0;max-width: 0;overflow: hidden;text-align: left;background-color: #f0f8ff;}#sk-container-id-3 div.sk-toggleable__content pre {margin: 0.2em;color: black;border-radius: 0.25em;background-color: #f0f8ff;}#sk-container-id-3 input.sk-toggleable__control:checked~div.sk-toggleable__content {max-height: 200px;max-width: 100%;overflow: auto;}#sk-container-id-3 input.sk-toggleable__control:checked~label.sk-toggleable__label-arrow:before {content: \"▾\";}#sk-container-id-3 div.sk-estimator input.sk-toggleable__control:checked~label.sk-toggleable__label {background-color: #d4ebff;}#sk-container-id-3 div.sk-label input.sk-toggleable__control:checked~label.sk-toggleable__label {background-color: #d4ebff;}#sk-container-id-3 input.sk-hidden--visually {border: 0;clip: rect(1px 1px 1px 1px);clip: rect(1px, 1px, 1px, 1px);height: 1px;margin: -1px;overflow: hidden;padding: 0;position: absolute;width: 1px;}#sk-container-id-3 div.sk-estimator {font-family: monospace;background-color: #f0f8ff;border: 1px dotted black;border-radius: 0.25em;box-sizing: border-box;margin-bottom: 0.5em;}#sk-container-id-3 div.sk-estimator:hover {background-color: #d4ebff;}#sk-container-id-3 div.sk-parallel-item::after {content: \"\";width: 100%;border-bottom: 1px solid gray;flex-grow: 1;}#sk-container-id-3 div.sk-label:hover label.sk-toggleable__label {background-color: #d4ebff;}#sk-container-id-3 div.sk-serial::before {content: \"\";position: absolute;border-left: 1px solid gray;box-sizing: border-box;top: 0;bottom: 0;left: 50%;z-index: 0;}#sk-container-id-3 div.sk-serial {display: flex;flex-direction: column;align-items: center;background-color: white;padding-right: 0.2em;padding-left: 0.2em;position: relative;}#sk-container-id-3 div.sk-item {position: relative;z-index: 1;}#sk-container-id-3 div.sk-parallel {display: flex;align-items: stretch;justify-content: center;background-color: white;position: relative;}#sk-container-id-3 div.sk-item::before, #sk-container-id-3 div.sk-parallel-item::before {content: \"\";position: absolute;border-left: 1px solid gray;box-sizing: border-box;top: 0;bottom: 0;left: 50%;z-index: -1;}#sk-container-id-3 div.sk-parallel-item {display: flex;flex-direction: column;z-index: 1;position: relative;background-color: white;}#sk-container-id-3 div.sk-parallel-item:first-child::after {align-self: flex-end;width: 50%;}#sk-container-id-3 div.sk-parallel-item:last-child::after {align-self: flex-start;width: 50%;}#sk-container-id-3 div.sk-parallel-item:only-child::after {width: 0;}#sk-container-id-3 div.sk-dashed-wrapped {border: 1px dashed gray;margin: 0 0.4em 0.5em 0.4em;box-sizing: border-box;padding-bottom: 0.4em;background-color: white;}#sk-container-id-3 div.sk-label label {font-family: monospace;font-weight: bold;display: inline-block;line-height: 1.2em;}#sk-container-id-3 div.sk-label-container {text-align: center;}#sk-container-id-3 div.sk-container {/* jupyter's `normalize.less` sets `[hidden] { display: none; }` but bootstrap.min.css set `[hidden] { display: none !important; }` so we also need the `!important` here to be able to override the default hidden behavior on the sphinx rendered scikit-learn.org. See: https://github.com/scikit-learn/scikit-learn/issues/21755 */display: inline-block !important;position: relative;}#sk-container-id-3 div.sk-text-repr-fallback {display: none;}</style><div id=\"sk-container-id-3\" class=\"sk-top-container\"><div class=\"sk-text-repr-fallback\"><pre>GridSearchCV(estimator=SVC(probability=True),\n",
              "             param_grid=[{&#x27;C&#x27;: [1, 10, 100, 1000], &#x27;kernel&#x27;: [&#x27;poly&#x27;]},\n",
              "                         {&#x27;C&#x27;: [1, 10, 100, 1000], &#x27;gamma&#x27;: [0.001, 0.0001],\n",
              "                          &#x27;kernel&#x27;: [&#x27;rbf&#x27;]}])</pre><b>In a Jupyter environment, please rerun this cell to show the HTML representation or trust the notebook. <br />On GitHub, the HTML representation is unable to render, please try loading this page with nbviewer.org.</b></div><div class=\"sk-container\" hidden><div class=\"sk-item sk-dashed-wrapped\"><div class=\"sk-label-container\"><div class=\"sk-label sk-toggleable\"><input class=\"sk-toggleable__control sk-hidden--visually\" id=\"sk-estimator-id-7\" type=\"checkbox\" ><label for=\"sk-estimator-id-7\" class=\"sk-toggleable__label sk-toggleable__label-arrow\">GridSearchCV</label><div class=\"sk-toggleable__content\"><pre>GridSearchCV(estimator=SVC(probability=True),\n",
              "             param_grid=[{&#x27;C&#x27;: [1, 10, 100, 1000], &#x27;kernel&#x27;: [&#x27;poly&#x27;]},\n",
              "                         {&#x27;C&#x27;: [1, 10, 100, 1000], &#x27;gamma&#x27;: [0.001, 0.0001],\n",
              "                          &#x27;kernel&#x27;: [&#x27;rbf&#x27;]}])</pre></div></div></div><div class=\"sk-parallel\"><div class=\"sk-parallel-item\"><div class=\"sk-item\"><div class=\"sk-label-container\"><div class=\"sk-label sk-toggleable\"><input class=\"sk-toggleable__control sk-hidden--visually\" id=\"sk-estimator-id-8\" type=\"checkbox\" ><label for=\"sk-estimator-id-8\" class=\"sk-toggleable__label sk-toggleable__label-arrow\">estimator: SVC</label><div class=\"sk-toggleable__content\"><pre>SVC(probability=True)</pre></div></div></div><div class=\"sk-serial\"><div class=\"sk-item\"><div class=\"sk-estimator sk-toggleable\"><input class=\"sk-toggleable__control sk-hidden--visually\" id=\"sk-estimator-id-9\" type=\"checkbox\" ><label for=\"sk-estimator-id-9\" class=\"sk-toggleable__label sk-toggleable__label-arrow\">SVC</label><div class=\"sk-toggleable__content\"><pre>SVC(probability=True)</pre></div></div></div></div></div></div></div></div></div></div>"
            ]
          },
          "metadata": {},
          "execution_count": 157
        }
      ]
    },
    {
      "cell_type": "code",
      "source": [
        "y_pred =clf.predict(x_test)\n",
        "y_pred"
      ],
      "metadata": {
        "colab": {
          "base_uri": "https://localhost:8080/"
        },
        "id": "JMKgdhP4Ckwn",
        "outputId": "0ab32319-3ffe-4869-90bc-0668b2e625df"
      },
      "execution_count": 158,
      "outputs": [
        {
          "output_type": "execute_result",
          "data": {
            "text/plain": [
              "array([4, 3, 4, 2, 4, 4, 5, 4, 4, 2, 5, 2, 3, 4, 3, 4, 3, 3, 3, 3, 3, 4,\n",
              "       4, 3, 4, 1, 3, 4, 3, 4, 4, 5, 3, 4, 4, 3, 4])"
            ]
          },
          "metadata": {},
          "execution_count": 158
        }
      ]
    },
    {
      "cell_type": "code",
      "source": [
        "y_test"
      ],
      "metadata": {
        "colab": {
          "base_uri": "https://localhost:8080/"
        },
        "id": "E9K0yusxCkzj",
        "outputId": "89c22b48-b0ee-4579-9e04-c9ee64b8c8c3"
      },
      "execution_count": 159,
      "outputs": [
        {
          "output_type": "execute_result",
          "data": {
            "text/plain": [
              "array([0, 0, 2, 2, 2, 2, 0, 4, 4, 1, 5, 2, 5, 4, 0, 4, 1, 0, 0, 3, 1, 1,\n",
              "       0, 5, 2, 1, 3, 5, 0, 2, 4, 3, 3, 1, 5, 2, 1])"
            ]
          },
          "metadata": {},
          "execution_count": 159
        }
      ]
    },
    {
      "cell_type": "code",
      "source": [
        "from sklearn.metrics import accuracy_score,confusion_matrix"
      ],
      "metadata": {
        "id": "MLYiUM32Ck29"
      },
      "execution_count": 160,
      "outputs": []
    },
    {
      "cell_type": "code",
      "source": [
        "accuracy_score(y_pred,y_test)"
      ],
      "metadata": {
        "colab": {
          "base_uri": "https://localhost:8080/"
        },
        "id": "OGlXMXbsVzJu",
        "outputId": "6cb222ba-c161-48d6-88a5-0e3e50889760"
      },
      "execution_count": 161,
      "outputs": [
        {
          "output_type": "execute_result",
          "data": {
            "text/plain": [
              "0.32432432432432434"
            ]
          },
          "metadata": {},
          "execution_count": 161
        }
      ]
    },
    {
      "cell_type": "code",
      "source": [
        "confusion_matrix(y_pred,y_test)"
      ],
      "metadata": {
        "colab": {
          "base_uri": "https://localhost:8080/"
        },
        "id": "n_reeHw2VzMj",
        "outputId": "24e756c6-71e4-4337-d576-669b367bcc78"
      },
      "execution_count": 162,
      "outputs": [
        {
          "output_type": "execute_result",
          "data": {
            "text/plain": [
              "array([[0, 0, 0, 0, 0, 0],\n",
              "       [0, 1, 0, 0, 0, 0],\n",
              "       [0, 1, 2, 0, 0, 0],\n",
              "       [5, 2, 1, 3, 0, 2],\n",
              "       [2, 3, 5, 0, 5, 2],\n",
              "       [1, 0, 0, 1, 0, 1]])"
            ]
          },
          "metadata": {},
          "execution_count": 162
        }
      ]
    },
    {
      "cell_type": "code",
      "source": [
        "# Save the model using Pickle library\n",
        "import pickle\n",
        "pickle.dump(clf,open('img_model.p','wb'))"
      ],
      "metadata": {
        "id": "pKsjRGMXVzPZ"
      },
      "execution_count": 59,
      "outputs": []
    },
    {
      "cell_type": "code",
      "source": [
        "model = pickle.load(open('img_model.p','rb'))"
      ],
      "metadata": {
        "id": "YGO0nBuUVzR_"
      },
      "execution_count": 60,
      "outputs": []
    },
    {
      "cell_type": "code",
      "source": [
        "import requests\n",
        "from io import BytesIO\n",
        "\n",
        "# Testing a brand new Image\n",
        "flat_data = []\n",
        "url = input('Enter your URL: ')\n",
        "\n",
        "try:\n",
        "    headers = {'User-Agent': 'Mozilla/5.0 (Windows NT 10.0; Win64; x64) AppleWebKit/537.36 (KHTML, like Gecko) Chrome/58.0.3029.110 Safari/537.3'}\n",
        "    response = requests.get(url, headers=headers)\n",
        "\n",
        "    img = imread(BytesIO(response.content))  # Use BytesIO to convert bytes-like object\n",
        "    img_resized = resize(img, (150, 150, 3))\n",
        "    flat_data.append(img_resized.flatten())\n",
        "    flat_data = np.array(flat_data)\n",
        "    print(img.shape)\n",
        "    plt.imshow(img_resized)\n",
        "    plt.axis('off')  # Remove axis ticks and labels\n",
        "    plt.show()\n",
        "\n",
        "    y_out = model.predict(flat_data)\n",
        "    y_out = CATEGORIES[y_out[0]]\n",
        "    print(f' Predicted Output:  {y_out}')\n",
        "\n",
        "except Exception as e:\n",
        "    print(\"Error:\", e)"
      ],
      "metadata": {
        "colab": {
          "base_uri": "https://localhost:8080/",
          "height": 458
        },
        "id": "dfvVPKDKd2eg",
        "outputId": "6003f429-bd22-4710-f9fb-95823369688a"
      },
      "execution_count": 65,
      "outputs": [
        {
          "output_type": "stream",
          "name": "stdout",
          "text": [
            "Enter your URL: https://www.allaboutbirds.org/guide/assets/og/75219941-1200px.jpg\n",
            "(635, 1200, 3)\n"
          ]
        },
        {
          "output_type": "display_data",
          "data": {
            "text/plain": [
              "<Figure size 640x480 with 1 Axes>"
            ],
            "image/png": "[encoded data removed]"
          },
          "metadata": {}
        },
        {
          "output_type": "stream",
          "name": "stdout",
          "text": [
            " Predicted Output:  American Bittern\n"
          ]
        }
      ]
    },
    {
      "cell_type": "code",
      "source": [],
      "metadata": {
        "id": "nN0LTwzBfPaE"
      },
      "execution_count": null,
      "outputs": []
    },
    {
      "cell_type": "code",
      "source": [],
      "metadata": {
        "id": "XN3ANzQffPdk"
      },
      "execution_count": null,
      "outputs": []
    }
  ]
}